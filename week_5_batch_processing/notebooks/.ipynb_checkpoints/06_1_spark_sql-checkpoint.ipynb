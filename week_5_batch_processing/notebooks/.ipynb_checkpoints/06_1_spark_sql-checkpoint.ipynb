{
 "cells": [
  {
   "cell_type": "code",
   "execution_count": 3,
   "id": "b3b9e4c2-e09b-4f8f-be71-424a2200f417",
   "metadata": {},
   "outputs": [],
   "source": [
    "import pyspark\n",
    "from pyspark.sql import SparkSession"
   ]
  },
  {
   "cell_type": "code",
   "execution_count": 4,
   "id": "ced8f473-782e-48d7-aa88-950a56f04cf1",
   "metadata": {},
   "outputs": [
    {
     "name": "stdout",
     "output_type": "stream",
     "text": [
      "24/02/26 17:16:54 WARN SparkContext: Another SparkContext is being constructed (or threw an exception in its constructor). This may indicate an error, since only one SparkContext should be running in this JVM (see SPARK-2243). The other SparkContext was created at:\n",
      "org.apache.spark.api.java.JavaSparkContext.<init>(JavaSparkContext.scala:58)\n",
      "java.base/jdk.internal.reflect.NativeConstructorAccessorImpl.newInstance0(Native Method)\n",
      "java.base/jdk.internal.reflect.NativeConstructorAccessorImpl.newInstance(NativeConstructorAccessorImpl.java:62)\n",
      "java.base/jdk.internal.reflect.DelegatingConstructorAccessorImpl.newInstance(DelegatingConstructorAccessorImpl.java:45)\n",
      "java.base/java.lang.reflect.Constructor.newInstance(Constructor.java:490)\n",
      "py4j.reflection.MethodInvoker.invoke(MethodInvoker.java:247)\n",
      "py4j.reflection.ReflectionEngine.invoke(ReflectionEngine.java:357)\n",
      "py4j.Gateway.invoke(Gateway.java:238)\n",
      "py4j.commands.ConstructorCommand.invokeConstructor(ConstructorCommand.java:80)\n",
      "py4j.commands.ConstructorCommand.execute(ConstructorCommand.java:69)\n",
      "py4j.ClientServerConnection.waitForCommands(ClientServerConnection.java:182)\n",
      "py4j.ClientServerConnection.run(ClientServerConnection.java:106)\n",
      "java.base/java.lang.Thread.run(Thread.java:834)\n"
     ]
    }
   ],
   "source": [
    "spark = SparkSession.builder \\\n",
    "    .master(\"spark://127.0.0.1:7077\") \\\n",
    "    .appName('test') \\\n",
    "    .getOrCreate()"
   ]
  },
  {
   "cell_type": "code",
   "execution_count": 5,
   "id": "505d0b75-e531-4742-88f9-7f27f3d9bac8",
   "metadata": {},
   "outputs": [
    {
     "data": {
      "text/html": [
       "\n",
       "            <div>\n",
       "                <p><b>SparkSession - in-memory</b></p>\n",
       "                \n",
       "        <div>\n",
       "            <p><b>SparkContext</b></p>\n",
       "\n",
       "            <p><a href=\"http://4b9f2d4d-0312-4764-8c9d-a1d5c3bb34c7.internal.cloudapp.net:4040\">Spark UI</a></p>\n",
       "\n",
       "            <dl>\n",
       "              <dt>Version</dt>\n",
       "                <dd><code>v3.3.2</code></dd>\n",
       "              <dt>Master</dt>\n",
       "                <dd><code>spark://127.0.0.1:7077</code></dd>\n",
       "              <dt>AppName</dt>\n",
       "                <dd><code>test</code></dd>\n",
       "            </dl>\n",
       "        </div>\n",
       "        \n",
       "            </div>\n",
       "        "
      ],
      "text/plain": [
       "<pyspark.sql.session.SparkSession at 0x7f1bc4f8acb0>"
      ]
     },
     "execution_count": 5,
     "metadata": {},
     "output_type": "execute_result"
    }
   ],
   "source": [
    "spark"
   ]
  },
  {
   "cell_type": "code",
   "execution_count": 6,
   "id": "47e85fb5-0cba-43de-88fc-81f643c9fa1e",
   "metadata": {},
   "outputs": [
    {
     "name": "stderr",
     "output_type": "stream",
     "text": [
      "                                                                                \r"
     ]
    }
   ],
   "source": [
    "df_green = spark.read.parquet('data/pq/green/*/*')"
   ]
  },
  {
   "cell_type": "code",
   "execution_count": 7,
   "id": "b4adce99-57c6-4add-b19b-9cc194a3531a",
   "metadata": {},
   "outputs": [],
   "source": [
    "df_yellow = spark.read.parquet('data/pq/yellow/*/*')"
   ]
  },
  {
   "cell_type": "code",
   "execution_count": 8,
   "id": "5ee6d783-60b3-4ee3-8634-431580623192",
   "metadata": {},
   "outputs": [],
   "source": [
    "df_green = df_green \\\n",
    "    .withColumnRenamed('lpep_pickup_datetime','pickup_datetime') \\\n",
    "    .withColumnRenamed('lpep_dropoff_datetime','dropoff_datetime')"
   ]
  },
  {
   "cell_type": "code",
   "execution_count": 10,
   "id": "f9373ed4-7992-4552-86c1-a4cc411f27e3",
   "metadata": {},
   "outputs": [],
   "source": [
    "df_yellow = df_yellow \\\n",
    "    .withColumnRenamed('tpep_pickup_datetime','pickup_datetime') \\\n",
    "    .withColumnRenamed('tpep_dropoff_datetime','dropoff_datetime')"
   ]
  },
  {
   "cell_type": "code",
   "execution_count": 25,
   "id": "66e6f89d-5a72-48b6-94b9-45616d2012f0",
   "metadata": {},
   "outputs": [],
   "source": [
    "common_columns = ['VendorID',\n",
    " 'pickup_datetime',\n",
    " 'dropoff_datetime',\n",
    " 'store_and_fwd_flag',\n",
    " 'RatecodeID',\n",
    " 'PULocationID',\n",
    " 'DOLocationID',\n",
    " 'passenger_count',\n",
    " 'trip_distance',\n",
    " 'fare_amount',\n",
    " 'extra',\n",
    " 'mta_tax',\n",
    " 'tip_amount',\n",
    " 'tolls_amount',\n",
    " 'improvement_surcharge',\n",
    " 'total_amount',\n",
    " 'payment_type',\n",
    " 'congestion_surcharge']"
   ]
  },
  {
   "cell_type": "code",
   "execution_count": 16,
   "id": "4c7fb1fa-61c7-4a47-b19b-f08e91e42343",
   "metadata": {},
   "outputs": [],
   "source": [
    "from pyspark.sql import functions as F"
   ]
  },
  {
   "cell_type": "code",
   "execution_count": 17,
   "id": "c0c5c420-8f15-408a-b8a6-d6d9321e122e",
   "metadata": {},
   "outputs": [],
   "source": [
    "df_green_sel = df_green \\\n",
    "    .select(common_columns) \\\n",
    "    .withColumn('service_type', F.lit('green'))"
   ]
  },
  {
   "cell_type": "code",
   "execution_count": 18,
   "id": "4a294250-d0c1-405a-b7ff-0dc4ac5c6787",
   "metadata": {},
   "outputs": [],
   "source": [
    "df_yellow_sel = df_yellow \\\n",
    "    .select(common_columns) \\\n",
    "    .withColumn('service_type', F.lit('yellow'))"
   ]
  },
  {
   "cell_type": "code",
   "execution_count": 19,
   "id": "a1b82ba7-3c88-410f-b174-1fb3ff6b777d",
   "metadata": {},
   "outputs": [],
   "source": [
    "df_trips_data = df_yellow_sel.unionAll(df_green_sel)"
   ]
  },
  {
   "cell_type": "code",
   "execution_count": 22,
   "id": "13f5e5eb-ca28-4d9c-b30f-75d3d6670b52",
   "metadata": {},
   "outputs": [
    {
     "name": "stderr",
     "output_type": "stream",
     "text": [
      "/workspaces/GabrielZoomcamp2024/week_5_batch_processing/spark/spark-3.3.2-bin-hadoop3/python/pyspark/sql/dataframe.py:229: FutureWarning: Deprecated in 2.0, use createOrReplaceTempView instead.\n",
      "  warnings.warn(\"Deprecated in 2.0, use createOrReplaceTempView instead.\", FutureWarning)\n"
     ]
    }
   ],
   "source": [
    "df_trips_data.registerTempTable('trips_data')"
   ]
  },
  {
   "cell_type": "code",
   "execution_count": 23,
   "id": "8b99686d-8f33-4611-82d1-872a248d4fcd",
   "metadata": {},
   "outputs": [],
   "source": [
    "df_result = spark.sql(\"\"\"\n",
    "SELECT \n",
    "    -- Reveneue grouping \n",
    "    PULocationID AS revenue_zone,\n",
    "    date_trunc('month', pickup_datetime) AS revenue_month, \n",
    "    service_type, \n",
    "\n",
    "    -- Revenue calculation \n",
    "    SUM(fare_amount) AS revenue_monthly_fare,\n",
    "    SUM(extra) AS revenue_monthly_extra,\n",
    "    SUM(mta_tax) AS revenue_monthly_mta_tax,\n",
    "    SUM(tip_amount) AS revenue_monthly_tip_amount,\n",
    "    SUM(tolls_amount) AS revenue_monthly_tolls_amount,\n",
    "    SUM(improvement_surcharge) AS revenue_monthly_improvement_surcharge,\n",
    "    SUM(total_amount) AS revenue_monthly_total_amount,\n",
    "    SUM(congestion_surcharge) AS revenue_monthly_congestion_surcharge,\n",
    "\n",
    "    -- Additional calculations\n",
    "    AVG(passenger_count) AS avg_montly_passenger_count,\n",
    "    AVG(trip_distance) AS avg_montly_trip_distance\n",
    "FROM\n",
    "    trips_data\n",
    "GROUP BY\n",
    "    1, 2, 3\n",
    "\"\"\")"
   ]
  },
  {
   "cell_type": "code",
   "execution_count": 24,
   "id": "7d205ca7-1c28-433b-adae-bd79cff369b5",
   "metadata": {},
   "outputs": [
    {
     "name": "stderr",
     "output_type": "stream",
     "text": [
      "[Stage 5:=================================================>       (13 + 2) / 15]\r"
     ]
    },
    {
     "name": "stdout",
     "output_type": "stream",
     "text": [
      "+------------+-------------------+------------+--------------------+---------------------+-----------------------+--------------------------+----------------------------+-------------------------------------+----------------------------+------------------------------------+--------------------------+------------------------+\n",
      "|revenue_zone|      revenue_month|service_type|revenue_monthly_fare|revenue_monthly_extra|revenue_monthly_mta_tax|revenue_monthly_tip_amount|revenue_monthly_tolls_amount|revenue_monthly_improvement_surcharge|revenue_monthly_total_amount|revenue_monthly_congestion_surcharge|avg_montly_passenger_count|avg_montly_trip_distance|\n",
      "+------------+-------------------+------------+--------------------+---------------------+-----------------------+--------------------------+----------------------------+-------------------------------------+----------------------------+------------------------------------+--------------------------+------------------------+\n",
      "|          85|2020-01-01 00:00:00|      yellow|  12935.399999999974|               1011.0|                  199.5|                     45.69|           607.6500000000003|                   152.39999999999927|          14972.239999999994|                                 7.5|                    1.2125|       5.126627450980393|\n",
      "|          67|2020-01-01 00:00:00|      yellow|   3885.500000000001|                223.0|                   61.0|                     95.47|          216.85000000000002|                    42.90000000000006|          4562.5199999999995|                                40.0|        1.4078947368421053|       5.574755244755246|\n",
      "|         114|2020-01-01 00:00:00|      yellow|   846659.2700000003|              96382.2|                39104.0|          164778.930000005|          3837.6899999999814|                   23529.599999989692|            1305615.44000008|                            195187.5|        1.5695355832815059|      2.3266208749429698|\n",
      "|          15|2020-01-01 00:00:00|      yellow|   4169.340000000001|                187.0|                   63.0|        17.740000000000002|                      263.16|                    42.90000000000006|           4743.139999999999|                                 0.0|        1.0121951219512195|       5.763851351351351|\n",
      "|          14|2020-01-01 00:00:00|      yellow|   20662.51000000001|               891.75|                  294.0|                    661.95|           962.5100000000004|                    202.7999999999988|          23777.519999999982|                                72.5|        1.2444987775061125|       6.243197674418604|\n",
      "|          47|2020-01-01 00:00:00|      yellow|   7626.519999999999|                549.5|                  133.0|        52.019999999999996|          330.48000000000013|                    92.69999999999983|           8797.570000000009|                                12.5|        1.4388489208633093|      4.9395569620253195|\n",
      "|         247|2020-01-01 00:00:00|      yellow|  14046.810000000001|               688.75|                  341.5|                    570.83|           516.6300000000002|                   228.29999999999856|          16512.870000000046|                               137.5|        1.4366666666666668|       3.781741357234314|\n",
      "|         251|2020-01-01 00:00:00|      yellow|   593.6500000000001|                19.25|                    4.5|                       0.0|                      202.24|                                  2.7|                      822.34|                                 0.0|                       1.0|      26.733333333333334|\n",
      "|         133|2020-01-01 00:00:00|      yellow|              9246.8|               474.25|                  177.5|         487.1600000000001|           563.4300000000002|                   122.09999999999955|          11229.090000000015|                                95.0|        1.5604395604395604|       4.473135391923989|\n",
      "|         138|2020-01-01 00:00:00|      yellow|   3870864.080000001|   107107.65000000005|                65172.5|         714397.3300000039|           502990.7199997479|                    39478.19999995101|           5433717.979998621|                            197935.0|        1.4881756756756757|       8.866749046276324|\n",
      "|         141|2020-01-01 00:00:00|      yellow|  1500311.8099999987|   175565.55000000005|                78842.5|         277556.1400000081|          12447.759999999847|                    47449.49999993168|           2355028.060001623|                            392384.0|         1.497555004511411|      1.9089843666513784|\n",
      "|          97|2020-01-01 00:00:00|      yellow|   65334.59000000007|              3697.55|                 2124.0|         6488.820000000002|           352.9400000000001|                   1325.6999999999816|           81182.15000000031|                              2762.5|        1.4893827160493827|      3.3566172839506163|\n",
      "|         141|2019-12-01 00:00:00|      yellow|                59.0|                  2.0|                    2.0|                      4.66|                         0.0|                                  1.2|                       78.86|                                10.0|                      1.25|      3.9274999999999998|\n",
      "|         162|2019-12-01 00:00:00|      yellow|                26.0|                  1.5|                    1.5|                      9.84|                         0.0|                   0.8999999999999999|                       47.24|                                 7.5|                       2.2|                   1.062|\n",
      "|          84|2020-01-01 00:00:00|      yellow|               234.0|                  0.0|                    2.0|                       0.0|                        6.12|                                  1.2|                      243.32|                                 0.0|                       1.0|                   18.63|\n",
      "|          26|2020-01-01 00:00:00|      yellow|  12008.139999999985|                916.5|                  225.0|                     47.48|          482.21000000000015|                   153.89999999999924|           13844.08000000001|                                 7.5|        1.3083700440528634|       4.064198473282444|\n",
      "|         132|2008-12-01 00:00:00|      yellow|               261.0|                  1.0|                    3.5|                     12.28|                       12.24|                   2.0999999999999996|                      302.12|                                 7.5|         2.142857142857143|      13.135714285714284|\n",
      "|         217|2020-01-01 00:00:00|      yellow|   7599.129999999995|               494.55|                  180.0|        397.65000000000003|          128.14999999999998|                   125.69999999999952|           8987.930000000015|                                90.0|        1.3420195439739413|       3.253967136150235|\n",
      "|         185|2020-01-01 00:00:00|      yellow|   7222.039999999995|               450.25|                  110.0|         66.99000000000001|           397.2800000000002|                    78.29999999999997|           8342.110000000004|                                 7.5|         1.353448275862069|       5.348181818181818|\n",
      "|          44|2020-01-01 00:00:00|      yellow|             1437.92|                  6.0|                   18.5|                      1.66|                       73.44|                   11.099999999999998|          1548.6199999999997|                                 0.0|        0.9743589743589743|      11.743658536585366|\n",
      "+------------+-------------------+------------+--------------------+---------------------+-----------------------+--------------------------+----------------------------+-------------------------------------+----------------------------+------------------------------------+--------------------------+------------------------+\n",
      "only showing top 20 rows\n",
      "\n"
     ]
    },
    {
     "name": "stderr",
     "output_type": "stream",
     "text": [
      "                                                                                \r"
     ]
    }
   ],
   "source": [
    "df_result.show()"
   ]
  },
  {
   "cell_type": "code",
   "execution_count": 44,
   "id": "9808fe23-658f-462a-a95f-a2727b0b82ca",
   "metadata": {},
   "outputs": [
    {
     "name": "stderr",
     "output_type": "stream",
     "text": [
      "                                                                                \r"
     ]
    }
   ],
   "source": [
    "df_result.coalesce(1) \\\n",
    "    .write.parquet('data/report/revenue/', mode='overwrite')"
   ]
  },
  {
   "cell_type": "code",
   "execution_count": null,
   "id": "e40bb10f-4dac-4882-a7eb-f4a2ae620bc2",
   "metadata": {},
   "outputs": [],
   "source": []
  }
 ],
 "metadata": {
  "kernelspec": {
   "display_name": "Python 3 (ipykernel)",
   "language": "python",
   "name": "python3"
  },
  "language_info": {
   "codemirror_mode": {
    "name": "ipython",
    "version": 3
   },
   "file_extension": ".py",
   "mimetype": "text/x-python",
   "name": "python",
   "nbconvert_exporter": "python",
   "pygments_lexer": "ipython3",
   "version": "3.10.13"
  }
 },
 "nbformat": 4,
 "nbformat_minor": 5
}
