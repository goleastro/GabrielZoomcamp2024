{
 "cells": [
  {
   "cell_type": "code",
   "execution_count": 1,
   "id": "b3b9e4c2-e09b-4f8f-be71-424a2200f417",
   "metadata": {},
   "outputs": [],
   "source": [
    "import pyspark\n",
    "from pyspark.sql import SparkSession"
   ]
  },
  {
   "cell_type": "code",
   "execution_count": 2,
   "id": "ced8f473-782e-48d7-aa88-950a56f04cf1",
   "metadata": {},
   "outputs": [
    {
     "name": "stdout",
     "output_type": "stream",
     "text": [
      "24/02/24 15:22:09 WARN Utils: Your hostname, codespaces-45ac75 resolves to a loopback address: 127.0.0.1; using 172.16.5.4 instead (on interface eth0)\n",
      "24/02/24 15:22:09 WARN Utils: Set SPARK_LOCAL_IP if you need to bind to another address\n"
     ]
    },
    {
     "name": "stderr",
     "output_type": "stream",
     "text": [
      "Setting default log level to \"WARN\".\n",
      "To adjust logging level use sc.setLogLevel(newLevel). For SparkR, use setLogLevel(newLevel).\n"
     ]
    },
    {
     "name": "stdout",
     "output_type": "stream",
     "text": [
      "24/02/24 15:22:10 WARN NativeCodeLoader: Unable to load native-hadoop library for your platform... using builtin-java classes where applicable\n",
      "24/02/24 15:22:12 WARN Utils: Service 'SparkUI' could not bind on port 4040. Attempting port 4041.\n"
     ]
    }
   ],
   "source": [
    "spark = SparkSession.builder \\\n",
    "    .master(\"local[*]\") \\\n",
    "    .appName('test') \\\n",
    "    .getOrCreate()"
   ]
  },
  {
   "cell_type": "code",
   "execution_count": 5,
   "id": "47e85fb5-0cba-43de-88fc-81f643c9fa1e",
   "metadata": {},
   "outputs": [],
   "source": [
    "df_green = spark.read.parquet('data/pq/green/*/*')"
   ]
  },
  {
   "cell_type": "code",
   "execution_count": 6,
   "id": "b4adce99-57c6-4add-b19b-9cc194a3531a",
   "metadata": {},
   "outputs": [],
   "source": [
    "df_yellow = spark.read.parquet('data/pq/yellow/*/*')"
   ]
  },
  {
   "cell_type": "code",
   "execution_count": 12,
   "id": "5ee6d783-60b3-4ee3-8634-431580623192",
   "metadata": {},
   "outputs": [],
   "source": [
    "df_green = df_green \\\n",
    "    .withColumnRenamed('lpep_pickup_datetime','pickup_datetime') \\\n",
    "    .withColumnRenamed('lpep_dropoff_datetime','dropoff_datetime')"
   ]
  },
  {
   "cell_type": "code",
   "execution_count": 33,
   "id": "752c9736-fb0a-4798-a3e4-23d025efee64",
   "metadata": {},
   "outputs": [
    {
     "name": "stdout",
     "output_type": "stream",
     "text": [
      "root\n",
      " |-- VendorID: integer (nullable = true)\n",
      " |-- pickup_datetime: timestamp (nullable = true)\n",
      " |-- dropoff_datetime: timestamp (nullable = true)\n",
      " |-- store_and_fwd_flag: string (nullable = true)\n",
      " |-- RatecodeID: integer (nullable = true)\n",
      " |-- PULocationID: integer (nullable = true)\n",
      " |-- DOLocationID: integer (nullable = true)\n",
      " |-- passenger_count: integer (nullable = true)\n",
      " |-- trip_distance: double (nullable = true)\n",
      " |-- fare_amount: double (nullable = true)\n",
      " |-- extra: double (nullable = true)\n",
      " |-- mta_tax: double (nullable = true)\n",
      " |-- tip_amount: double (nullable = true)\n",
      " |-- tolls_amount: double (nullable = true)\n",
      " |-- ehail_fee: string (nullable = true)\n",
      " |-- improvement_surcharge: double (nullable = true)\n",
      " |-- total_amount: double (nullable = true)\n",
      " |-- payment_type: integer (nullable = true)\n",
      " |-- trip_type: integer (nullable = true)\n",
      " |-- congestion_surcharge: double (nullable = true)\n",
      "\n"
     ]
    }
   ],
   "source": [
    "df_green.printSchema()"
   ]
  },
  {
   "cell_type": "code",
   "execution_count": 15,
   "id": "f9373ed4-7992-4552-86c1-a4cc411f27e3",
   "metadata": {},
   "outputs": [],
   "source": [
    "df_yellow = df_yellow \\\n",
    "    .withColumnRenamed('tpep_pickup_datetime','pickup_datetime') \\\n",
    "    .withColumnRenamed('tpep_dropoff_datetime','dropoff_datetime')"
   ]
  },
  {
   "cell_type": "code",
   "execution_count": 16,
   "id": "1ebfda4a-e786-4565-a3e3-2e289b6a6d2c",
   "metadata": {},
   "outputs": [
    {
     "name": "stdout",
     "output_type": "stream",
     "text": [
      "root\n",
      " |-- VendorID: integer (nullable = true)\n",
      " |-- pickup_datetime: timestamp (nullable = true)\n",
      " |-- dropoff_datetime: timestamp (nullable = true)\n",
      " |-- passenger_count: integer (nullable = true)\n",
      " |-- trip_distance: double (nullable = true)\n",
      " |-- RatecodeID: integer (nullable = true)\n",
      " |-- store_and_fwd_flag: string (nullable = true)\n",
      " |-- PULocationID: integer (nullable = true)\n",
      " |-- DOLocationID: integer (nullable = true)\n",
      " |-- payment_type: integer (nullable = true)\n",
      " |-- fare_amount: double (nullable = true)\n",
      " |-- extra: double (nullable = true)\n",
      " |-- mta_tax: double (nullable = true)\n",
      " |-- tip_amount: double (nullable = true)\n",
      " |-- tolls_amount: double (nullable = true)\n",
      " |-- improvement_surcharge: double (nullable = true)\n",
      " |-- total_amount: double (nullable = true)\n",
      " |-- congestion_surcharge: double (nullable = true)\n",
      "\n"
     ]
    }
   ],
   "source": [
    "df_yellow.printSchema()"
   ]
  },
  {
   "cell_type": "code",
   "execution_count": 18,
   "id": "51f43b26-fa4e-471a-bf4d-9d3103e28100",
   "metadata": {},
   "outputs": [
    {
     "data": {
      "text/plain": [
       "['VendorID',\n",
       " 'pickup_datetime',\n",
       " 'dropoff_datetime',\n",
       " 'store_and_fwd_flag',\n",
       " 'RatecodeID',\n",
       " 'PULocationID',\n",
       " 'DOLocationID',\n",
       " 'passenger_count',\n",
       " 'trip_distance',\n",
       " 'fare_amount',\n",
       " 'extra',\n",
       " 'mta_tax',\n",
       " 'tip_amount',\n",
       " 'tolls_amount',\n",
       " 'ehail_fee',\n",
       " 'improvement_surcharge',\n",
       " 'total_amount',\n",
       " 'payment_type',\n",
       " 'trip_type',\n",
       " 'congestion_surcharge']"
      ]
     },
     "execution_count": 18,
     "metadata": {},
     "output_type": "execute_result"
    }
   ],
   "source": [
    "df_green.columns"
   ]
  },
  {
   "cell_type": "code",
   "execution_count": 19,
   "id": "2a1168f3-d3bb-442e-a066-0bd701a9fb0a",
   "metadata": {},
   "outputs": [
    {
     "data": {
      "text/plain": [
       "{'DOLocationID',\n",
       " 'PULocationID',\n",
       " 'RatecodeID',\n",
       " 'VendorID',\n",
       " 'congestion_surcharge',\n",
       " 'dropoff_datetime',\n",
       " 'extra',\n",
       " 'fare_amount',\n",
       " 'improvement_surcharge',\n",
       " 'mta_tax',\n",
       " 'passenger_count',\n",
       " 'payment_type',\n",
       " 'pickup_datetime',\n",
       " 'store_and_fwd_flag',\n",
       " 'tip_amount',\n",
       " 'tolls_amount',\n",
       " 'total_amount',\n",
       " 'trip_distance'}"
      ]
     },
     "execution_count": 19,
     "metadata": {},
     "output_type": "execute_result"
    }
   ],
   "source": [
    "set(df_green.columns) & set(df_yellow.columns) # notice the order of columns is lost so we will try another way below"
   ]
  },
  {
   "cell_type": "code",
   "execution_count": 21,
   "id": "477d5957-3cf4-4d60-bf88-a9cd410b353c",
   "metadata": {},
   "outputs": [],
   "source": [
    "common_columns = []\n",
    "\n",
    "yellow_columns = set(df_yellow.columns)\n",
    "\n",
    "for col in df_green.columns:\n",
    "    if col in yellow_columns:\n",
    "            common_columns.append(col)"
   ]
  },
  {
   "cell_type": "code",
   "execution_count": 22,
   "id": "66e6f89d-5a72-48b6-94b9-45616d2012f0",
   "metadata": {},
   "outputs": [
    {
     "data": {
      "text/plain": [
       "['VendorID',\n",
       " 'pickup_datetime',\n",
       " 'dropoff_datetime',\n",
       " 'store_and_fwd_flag',\n",
       " 'RatecodeID',\n",
       " 'PULocationID',\n",
       " 'DOLocationID',\n",
       " 'passenger_count',\n",
       " 'trip_distance',\n",
       " 'fare_amount',\n",
       " 'extra',\n",
       " 'mta_tax',\n",
       " 'tip_amount',\n",
       " 'tolls_amount',\n",
       " 'improvement_surcharge',\n",
       " 'total_amount',\n",
       " 'payment_type',\n",
       " 'congestion_surcharge']"
      ]
     },
     "execution_count": 22,
     "metadata": {},
     "output_type": "execute_result"
    }
   ],
   "source": [
    "common_columns"
   ]
  },
  {
   "cell_type": "code",
   "execution_count": 23,
   "id": "4c7fb1fa-61c7-4a47-b19b-f08e91e42343",
   "metadata": {},
   "outputs": [],
   "source": [
    "from pyspark.sql import functions as F"
   ]
  },
  {
   "cell_type": "code",
   "execution_count": 34,
   "id": "c0c5c420-8f15-408a-b8a6-d6d9321e122e",
   "metadata": {},
   "outputs": [],
   "source": [
    "df_green_sel = df_green \\\n",
    "    .select(common_columns) \\\n",
    "    .withColumn('service_type', F.lit('green'))"
   ]
  },
  {
   "cell_type": "code",
   "execution_count": 35,
   "id": "4a294250-d0c1-405a-b7ff-0dc4ac5c6787",
   "metadata": {},
   "outputs": [],
   "source": [
    "df_yellow_sel = df_yellow \\\n",
    "    .select(common_columns) \\\n",
    "    .withColumn('service_type', F.lit('yellow'))"
   ]
  },
  {
   "cell_type": "code",
   "execution_count": 36,
   "id": "a1b82ba7-3c88-410f-b174-1fb3ff6b777d",
   "metadata": {},
   "outputs": [],
   "source": [
    "df_trips_data = df_yellow_sel.unionAll(df_green_sel)"
   ]
  },
  {
   "cell_type": "code",
   "execution_count": 37,
   "id": "02126808-2976-4b97-807c-727044075fa2",
   "metadata": {},
   "outputs": [
    {
     "name": "stderr",
     "output_type": "stream",
     "text": [
      "[Stage 6:=====================================================>   (14 + 1) / 15]\r"
     ]
    },
    {
     "name": "stdout",
     "output_type": "stream",
     "text": [
      "+------------+--------+\n",
      "|service_type|   count|\n",
      "+------------+--------+\n",
      "|      yellow|39649199|\n",
      "|       green| 2304517|\n",
      "+------------+--------+\n",
      "\n"
     ]
    },
    {
     "name": "stderr",
     "output_type": "stream",
     "text": [
      "                                                                                \r"
     ]
    }
   ],
   "source": [
    "df_trips_data.groupBy('service_type').count().show()"
   ]
  },
  {
   "cell_type": "code",
   "execution_count": 38,
   "id": "13f5e5eb-ca28-4d9c-b30f-75d3d6670b52",
   "metadata": {},
   "outputs": [
    {
     "name": "stderr",
     "output_type": "stream",
     "text": [
      "/workspaces/GabrielZoomcamp2024/week_5_batch_processing/spark/spark-3.3.2-bin-hadoop3/python/pyspark/sql/dataframe.py:229: FutureWarning: Deprecated in 2.0, use createOrReplaceTempView instead.\n",
      "  warnings.warn(\"Deprecated in 2.0, use createOrReplaceTempView instead.\", FutureWarning)\n"
     ]
    }
   ],
   "source": [
    "df_trips_data.registerTempTable('trips_data')"
   ]
  },
  {
   "cell_type": "code",
   "execution_count": 40,
   "id": "8b99686d-8f33-4611-82d1-872a248d4fcd",
   "metadata": {},
   "outputs": [
    {
     "name": "stderr",
     "output_type": "stream",
     "text": [
      "[Stage 9:=========================================>               (11 + 2) / 15]\r"
     ]
    },
    {
     "name": "stdout",
     "output_type": "stream",
     "text": [
      "+------------+--------+\n",
      "|service_type|count(1)|\n",
      "+------------+--------+\n",
      "|      yellow|39649199|\n",
      "|       green| 2304517|\n",
      "+------------+--------+\n",
      "\n"
     ]
    },
    {
     "name": "stderr",
     "output_type": "stream",
     "text": [
      "                                                                                \r"
     ]
    }
   ],
   "source": [
    "spark.sql(\"\"\"\n",
    "SELECT \n",
    "    service_type,\n",
    "    count(1)\n",
    "FROM \n",
    "    trips_data\n",
    "GROUP BY\n",
    "    service_type\n",
    "\"\"\").show()"
   ]
  },
  {
   "cell_type": "code",
   "execution_count": 41,
   "id": "790ac268-d90a-4b1c-9bd3-e96079428a55",
   "metadata": {},
   "outputs": [],
   "source": [
    "df_result = spark.sql(\"\"\"\n",
    "SELECT \n",
    "    -- Reveneue grouping \n",
    "    PULocationID AS revenue_zone,\n",
    "    date_trunc('month', pickup_datetime) AS revenue_month, \n",
    "    service_type, \n",
    "\n",
    "    -- Revenue calculation \n",
    "    SUM(fare_amount) AS revenue_monthly_fare,\n",
    "    SUM(extra) AS revenue_monthly_extra,\n",
    "    SUM(mta_tax) AS revenue_monthly_mta_tax,\n",
    "    SUM(tip_amount) AS revenue_monthly_tip_amount,\n",
    "    SUM(tolls_amount) AS revenue_monthly_tolls_amount,\n",
    "    SUM(improvement_surcharge) AS revenue_monthly_improvement_surcharge,\n",
    "    SUM(total_amount) AS revenue_monthly_total_amount,\n",
    "    SUM(congestion_surcharge) AS revenue_monthly_congestion_surcharge,\n",
    "\n",
    "    -- Additional calculations\n",
    "    AVG(passenger_count) AS avg_montly_passenger_count,\n",
    "    AVG(trip_distance) AS avg_montly_trip_distance\n",
    "FROM\n",
    "    trips_data\n",
    "GROUP BY\n",
    "    1, 2, 3\n",
    "\"\"\")"
   ]
  },
  {
   "cell_type": "code",
   "execution_count": 43,
   "id": "7d205ca7-1c28-433b-adae-bd79cff369b5",
   "metadata": {},
   "outputs": [
    {
     "name": "stderr",
     "output_type": "stream",
     "text": [
      "[Stage 12:====================================================>   (14 + 1) / 15]\r"
     ]
    },
    {
     "name": "stdout",
     "output_type": "stream",
     "text": [
      "+------------+-------------------+------------+--------------------+---------------------+-----------------------+--------------------------+----------------------------+-------------------------------------+----------------------------+------------------------------------+--------------------------+------------------------+\n",
      "|revenue_zone|      revenue_month|service_type|revenue_monthly_fare|revenue_monthly_extra|revenue_monthly_mta_tax|revenue_monthly_tip_amount|revenue_monthly_tolls_amount|revenue_monthly_improvement_surcharge|revenue_monthly_total_amount|revenue_monthly_congestion_surcharge|avg_montly_passenger_count|avg_montly_trip_distance|\n",
      "+------------+-------------------+------------+--------------------+---------------------+-----------------------+--------------------------+----------------------------+-------------------------------------+----------------------------+------------------------------------+--------------------------+------------------------+\n",
      "|          85|2020-01-01 00:00:00|      yellow|  12935.399999999974|               1011.0|                  199.5|                     45.69|           607.6500000000003|                   152.39999999999927|          14972.239999999994|                                 7.5|                    1.2125|       5.126627450980393|\n",
      "|          67|2020-01-01 00:00:00|      yellow|   3885.500000000001|                223.0|                   61.0|                     95.47|          216.85000000000002|                    42.90000000000006|          4562.5199999999995|                                40.0|        1.4078947368421053|       5.574755244755246|\n",
      "|         114|2020-01-01 00:00:00|      yellow|   846659.2700000003|              96382.2|                39104.0|          164778.930000005|          3837.6899999999814|                   23529.599999989692|            1305615.44000008|                            195187.5|        1.5695355832815059|      2.3266208749429698|\n",
      "|          15|2020-01-01 00:00:00|      yellow|   4169.340000000001|                187.0|                   63.0|        17.740000000000002|                      263.16|                    42.90000000000006|           4743.139999999999|                                 0.0|        1.0121951219512195|       5.763851351351351|\n",
      "|          14|2020-01-01 00:00:00|      yellow|   20662.51000000001|               891.75|                  294.0|                    661.95|           962.5100000000004|                    202.7999999999988|          23777.519999999982|                                72.5|        1.2444987775061125|       6.243197674418604|\n",
      "|          47|2020-01-01 00:00:00|      yellow|   7626.519999999999|                549.5|                  133.0|        52.019999999999996|          330.48000000000013|                    92.69999999999983|           8797.570000000009|                                12.5|        1.4388489208633093|      4.9395569620253195|\n",
      "|         247|2020-01-01 00:00:00|      yellow|  14046.810000000001|               688.75|                  341.5|                    570.83|           516.6300000000002|                   228.29999999999856|          16512.870000000046|                               137.5|        1.4366666666666668|       3.781741357234314|\n",
      "|         251|2020-01-01 00:00:00|      yellow|   593.6500000000001|                19.25|                    4.5|                       0.0|                      202.24|                                  2.7|                      822.34|                                 0.0|                       1.0|      26.733333333333334|\n",
      "|         133|2020-01-01 00:00:00|      yellow|              9246.8|               474.25|                  177.5|         487.1600000000001|           563.4300000000002|                   122.09999999999955|          11229.090000000015|                                95.0|        1.5604395604395604|       4.473135391923989|\n",
      "|         138|2020-01-01 00:00:00|      yellow|   3870864.080000001|   107107.65000000005|                65172.5|         714397.3300000039|           502990.7199997479|                    39478.19999995101|           5433717.979998621|                            197935.0|        1.4881756756756757|       8.866749046276324|\n",
      "|         141|2020-01-01 00:00:00|      yellow|  1500311.8099999987|   175565.55000000005|                78842.5|         277556.1400000081|          12447.759999999847|                    47449.49999993168|           2355028.060001623|                            392384.0|         1.497555004511411|      1.9089843666513784|\n",
      "|          97|2020-01-01 00:00:00|      yellow|   65334.59000000007|              3697.55|                 2124.0|         6488.820000000002|           352.9400000000001|                   1325.6999999999816|           81182.15000000031|                              2762.5|        1.4893827160493827|      3.3566172839506163|\n",
      "|         141|2019-12-01 00:00:00|      yellow|                59.0|                  2.0|                    2.0|                      4.66|                         0.0|                                  1.2|                       78.86|                                10.0|                      1.25|      3.9274999999999998|\n",
      "|         162|2019-12-01 00:00:00|      yellow|                26.0|                  1.5|                    1.5|                      9.84|                         0.0|                   0.8999999999999999|                       47.24|                                 7.5|                       2.2|                   1.062|\n",
      "|          84|2020-01-01 00:00:00|      yellow|               234.0|                  0.0|                    2.0|                       0.0|                        6.12|                                  1.2|                      243.32|                                 0.0|                       1.0|                   18.63|\n",
      "|          26|2020-01-01 00:00:00|      yellow|  12008.139999999985|                916.5|                  225.0|                     47.48|          482.21000000000015|                   153.89999999999924|           13844.08000000001|                                 7.5|        1.3083700440528634|       4.064198473282444|\n",
      "|         132|2008-12-01 00:00:00|      yellow|               261.0|                  1.0|                    3.5|                     12.28|                       12.24|                   2.0999999999999996|                      302.12|                                 7.5|         2.142857142857143|      13.135714285714284|\n",
      "|         217|2020-01-01 00:00:00|      yellow|   7599.129999999995|               494.55|                  180.0|        397.65000000000003|          128.14999999999998|                   125.69999999999952|           8987.930000000015|                                90.0|        1.3420195439739413|       3.253967136150235|\n",
      "|         185|2020-01-01 00:00:00|      yellow|   7222.039999999995|               450.25|                  110.0|         66.99000000000001|           397.2800000000002|                    78.29999999999997|           8342.110000000004|                                 7.5|         1.353448275862069|       5.348181818181818|\n",
      "|          44|2020-01-01 00:00:00|      yellow|             1437.92|                  6.0|                   18.5|                      1.66|                       73.44|                   11.099999999999998|          1548.6199999999997|                                 0.0|        0.9743589743589743|      11.743658536585366|\n",
      "+------------+-------------------+------------+--------------------+---------------------+-----------------------+--------------------------+----------------------------+-------------------------------------+----------------------------+------------------------------------+--------------------------+------------------------+\n",
      "only showing top 20 rows\n",
      "\n"
     ]
    },
    {
     "name": "stderr",
     "output_type": "stream",
     "text": [
      "                                                                                \r"
     ]
    }
   ],
   "source": [
    "df_result.show()"
   ]
  },
  {
   "cell_type": "code",
   "execution_count": 44,
   "id": "9808fe23-658f-462a-a95f-a2727b0b82ca",
   "metadata": {},
   "outputs": [
    {
     "name": "stderr",
     "output_type": "stream",
     "text": [
      "                                                                                \r"
     ]
    }
   ],
   "source": [
    "df_result.coalesce(1).write.parquet('data/report/revenue/', mode='overwrite') #coalesce means we reducing number of files to 1 (opposite of partition)"
   ]
  },
  {
   "cell_type": "code",
   "execution_count": null,
   "id": "e40bb10f-4dac-4882-a7eb-f4a2ae620bc2",
   "metadata": {},
   "outputs": [],
   "source": []
  }
 ],
 "metadata": {
  "kernelspec": {
   "display_name": "Python 3 (ipykernel)",
   "language": "python",
   "name": "python3"
  },
  "language_info": {
   "codemirror_mode": {
    "name": "ipython",
    "version": 3
   },
   "file_extension": ".py",
   "mimetype": "text/x-python",
   "name": "python",
   "nbconvert_exporter": "python",
   "pygments_lexer": "ipython3",
   "version": "3.10.13"
  }
 },
 "nbformat": 4,
 "nbformat_minor": 5
}
